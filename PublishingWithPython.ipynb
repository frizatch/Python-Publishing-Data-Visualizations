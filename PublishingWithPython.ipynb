{
 "cells": [
  {
   "cell_type": "markdown",
   "id": "spoken-dream",
   "metadata": {},
   "source": [
    "# Publishing with Python - Creating figures with data visualization libraries"
   ]
  },
  {
   "cell_type": "markdown",
   "id": "dutch-trail",
   "metadata": {},
   "source": [
    "## Setting up the Notebook"
   ]
  },
  {
   "cell_type": "markdown",
   "id": "horizontal-plasma",
   "metadata": {},
   "source": [
    "The first thing we'll do is import all the libraries and packages we need to function!\n",
    "\n",
    "Be sure that all of these libraries and packages are installed in the python environment in which you're working. If you are accessing this notebook via binder, those environments will be pre-constructed for you. :)"
   ]
  },
  {
   "cell_type": "code",
   "execution_count": null,
   "id": "temporal-planning",
   "metadata": {},
   "outputs": [],
   "source": [
    "import os   # This library is important if you pull the .ipynb file onto your local machine and need to change directories\n",
    "\n",
    "import matplotlib as mpl\n",
    "import matplotlib.pyplot as plt\n",
    "import seaborn as sns # This is a West Wing reference apparently, but some import it as sb\n",
    "\n",
    "import numpy as np\n",
    "import pandas as pd\n",
    "import geopandas as gpd"
   ]
  },
  {
   "cell_type": "code",
   "execution_count": null,
   "id": "packed-marble",
   "metadata": {},
   "outputs": [],
   "source": [
    "# This notebook has a few cells that point to not built into the libraries (e.g. the airbnb .csv's)\n",
    "# If you are using the link directly from the workshop to launch a binder, leave this cell commented out\n",
    "# If you have downloaded the .ipynb file use this cell to change to your local directory\n",
    "# IMPORTANT: in your local directory, download the data into a folder called 'data'\n",
    "\n",
    "# os.chdir('C:\\\\Users\\\\fritzdi\\\\DataScience\\\\data\\\\pypub')  # add your own directory path to your data here!"
   ]
  },
  {
   "cell_type": "markdown",
   "id": "overhead-machinery",
   "metadata": {},
   "source": [
    "## Diving into Data Visualization"
   ]
  },
  {
   "cell_type": "markdown",
   "id": "hungry-graham",
   "metadata": {},
   "source": [
    "### Working with Matplotlib"
   ]
  },
  {
   "cell_type": "code",
   "execution_count": null,
   "id": "binding-impact",
   "metadata": {},
   "outputs": [],
   "source": [
    "fig = plt.figure()  # an empty figure with no Axes\n",
    "fig, ax = plt.subplots()  # a figure with a single Axes\n",
    "fig, axs = plt.subplots(2, 2)  # a figure with a 2x2 grid of Axes"
   ]
  },
  {
   "cell_type": "code",
   "execution_count": null,
   "id": "dimensional-vision",
   "metadata": {
    "scrolled": true
   },
   "outputs": [],
   "source": [
    "# You can easily plot equations\n",
    "\n",
    "x = np.linspace(0, 2 * np.pi, 10) # arguments are start, stop and number of samples\n",
    "y = np.sin(x)\n",
    "\n",
    "fig, ax = plt.subplots() # Create a figure containing a single axes (area to display the data)\n",
    "ax.plot(x, y)\n",
    "plt.show()"
   ]
  },
  {
   "cell_type": "code",
   "execution_count": null,
   "id": "upset-nashville",
   "metadata": {},
   "outputs": [],
   "source": [
    "# Quick versions of various plots are possible\n",
    "\n",
    "cost = [2.50, 1.23, 4.02, 3.25, 5.00, 4.40]\n",
    "sales_per_day = [34, 62, 49, 22, 13, 19]\n",
    "\n",
    "plt.scatter(cost, sales_per_day)\n",
    "# plt.plot(cost, sales_per_day, \"o\")   # This line creates the same plot more efficiently, but loses the flexibility of the plt.scatter function\n",
    "plt.show()"
   ]
  },
  {
   "cell_type": "code",
   "execution_count": null,
   "id": "million-trash",
   "metadata": {
    "scrolled": false
   },
   "outputs": [],
   "source": [
    "# You can add labels and annotations\n",
    "# Control details of the \"Artists\"\n",
    "# Basically everything visible on a figure is an Artist that can be controlled with \"setters\" when a method is called\n",
    "\n",
    "fig, ax = plt.subplots()\n",
    "ax.set_title('Title')\n",
    "ax.set_xlabel('numbers')\n",
    "ax.set_ylabel('other numbers', fontsize=14, color='red')  # you can pass keyword arguments to text functions\n",
    "ax.annotate('local min', xy=(3, 2), xytext=(2, 1.5),\n",
    "            arrowprops=dict(facecolor='black', shrink=0.05))\n",
    "ax.plot([1, 2, 3, 4], [1, 4, 2, 3], color='orange'); # Plot some data on the axes and pick a color for the line."
   ]
  },
  {
   "cell_type": "code",
   "execution_count": null,
   "id": "elect-oklahoma",
   "metadata": {
    "scrolled": true
   },
   "outputs": [],
   "source": [
    "# Create some data pulling randomly from a uniform distribution:\n",
    "\n",
    "np.random.seed(6)\n",
    "x = 0.5 + np.arange(8)\n",
    "y = np.random.uniform(2, 7, len(x))\n",
    "\n",
    "# plot\n",
    "fig, ax = plt.subplots()\n",
    "\n",
    "ax.bar(x, y, width=1, edgecolor=\"white\", linewidth=0.7)\n",
    "\n",
    "# Play with the two different sets of axix controls below:\n",
    "\n",
    "# ax.set(xlim=(0, 8), xticks=np.arange(1, 8),\n",
    "#        ylim=(0, 8), yticks=np.arange(1, 8))\n",
    "\n",
    "# ax.set_xticks(np.arange(0, 8, 2)) # high value not included\n",
    "# ax.set_yticks([0, 4, 8])  # note that we don't need to specify labels\n",
    "# ax.set_title('Fewer ticks');\n",
    "\n",
    "plt.show()"
   ]
  },
  {
   "cell_type": "markdown",
   "id": "weird-rubber",
   "metadata": {},
   "source": [
    "We've been looking at creating figures with simple numbers, equations and randomly generated numbers, but what if we want to load in our own data?\n",
    "\n",
    "We want to turn to other python packages to be able to load in data. This is where NumPy and Pandas come in."
   ]
  },
  {
   "cell_type": "markdown",
   "id": "leading-document",
   "metadata": {},
   "source": [
    "### NumPy\n",
    "\n",
    "NumPy arrays are powerful for working with data."
   ]
  },
  {
   "cell_type": "code",
   "execution_count": null,
   "id": "junior-worth",
   "metadata": {
    "scrolled": true
   },
   "outputs": [],
   "source": [
    "# Here we'll import a simple spreadsheet containing two columns of integers\n",
    "\n",
    "data = np.genfromtxt('data/SomeNumbers.csv',\n",
    "                 dtype = int, delimiter = ',',\n",
    "                 skip_header=1)\n",
    "print(data)"
   ]
  },
  {
   "cell_type": "code",
   "execution_count": null,
   "id": "narrow-contact",
   "metadata": {
    "scrolled": false
   },
   "outputs": [],
   "source": [
    "fig, ax = plt.subplots()  # Create a figure containing a single axes (area to display the data)\n",
    "ax.set_title('number series')\n",
    "ax.plot(data);  # Plot some data on the axes."
   ]
  },
  {
   "cell_type": "code",
   "execution_count": null,
   "id": "sharp-psychology",
   "metadata": {
    "scrolled": true
   },
   "outputs": [],
   "source": [
    "airb1, airb2 = np.genfromtxt('data/AirbnbDenver_Sample.csv',   # This data is a trimmed version of the full summary listings from Inside Airbnb\n",
    "                 dtype = int,\n",
    "                 delimiter = ',',\n",
    "                 unpack = True,   # This puts values separated into airb1 and airb2 (2 1D arrays)\n",
    "                 skip_header=1,   # lets numpy know the first row is field labels\n",
    "                 usecols = (9,11))  # These columns are price and number_of_reviews - always look at your source data!\n",
    "\n",
    "print(airb1, airb2)"
   ]
  },
  {
   "cell_type": "code",
   "execution_count": null,
   "id": "parental-edmonton",
   "metadata": {
    "scrolled": true
   },
   "outputs": [],
   "source": [
    "fig, ax = plt.subplots()\n",
    "# ax.plot(airb1, airb2, 'o')   # You can change the marker style to be a circle\n",
    "# ax.plot(airb1, airb2, 'd')   # ... a diamond\n",
    "# ax.plot(airb1, airb2, 'v')   # ... a downward triangle\n",
    "ax.plot(airb1, airb2, 's')   # ... or a square\n",
    "ax.set_title('Airbnb Prices vs Number of Reviews')\n",
    "ax.set_xlabel('Price')\n",
    "ax.set_ylabel('Reviews')\n",
    "plt.show()"
   ]
  },
  {
   "cell_type": "code",
   "execution_count": null,
   "id": "modified-terminology",
   "metadata": {},
   "outputs": [],
   "source": [
    "# Without unpacking, the data is read in as one 2D array, \"airb\"\n",
    "\n",
    "airb = np.genfromtxt('data/AirbnbDenver_Sample.csv',\n",
    "                 dtype = int,\n",
    "                 delimiter = ',',\n",
    "                 skip_header=1,   \n",
    "                 usecols = (9,11))  # These columns are price and number_of_reviews\n",
    "print(airb)"
   ]
  },
  {
   "cell_type": "code",
   "execution_count": null,
   "id": "convenient-necessity",
   "metadata": {
    "scrolled": true
   },
   "outputs": [],
   "source": [
    "# The default plot is of the values in the array\n",
    "# The following two sets of code create the same graph\n",
    "\n",
    "# fig, ax = plt.subplots()\n",
    "# ax.plot(airb);\n",
    "\n",
    "plt.plot(airb)\n",
    "plt.show()"
   ]
  },
  {
   "cell_type": "markdown",
   "id": "italic-garlic",
   "metadata": {},
   "source": [
    "### Pandas"
   ]
  },
  {
   "cell_type": "markdown",
   "id": "killing-penetration",
   "metadata": {},
   "source": [
    "Instead of NumPy and working with arrays, you can use Pandas to create visualizations as it is built on top of matplotlib.\n",
    "\n",
    "Pandas is a package that gives us the capability of putting all of our data into a **dataframe**. It's like pulling a spreadsheet into python! \n",
    "\n",
    "We'll look at Pandas more closely in a moment, but here's a quick look at what it can do."
   ]
  },
  {
   "cell_type": "code",
   "execution_count": null,
   "id": "diagnostic-provision",
   "metadata": {
    "scrolled": true
   },
   "outputs": [],
   "source": [
    "# Here we're using Pandas (pd) to read in our data and read the column headers\n",
    "\n",
    "airbnbData = pd.read_csv(\"data/AirBnB-Denver_20211229_listingssummary.csv\")   # This is the full Denver dataset from Inside Airbnb\n",
    "\n",
    "airbnbData.columns"
   ]
  },
  {
   "cell_type": "code",
   "execution_count": null,
   "id": "corporate-mozambique",
   "metadata": {
    "scrolled": true
   },
   "outputs": [],
   "source": [
    "# We'll create a bar chart with Pandas making use of matplotlib.\n",
    "# The dataset is quite large, so we can limit it to the first 15 entries in our graphic.\n",
    "\n",
    "airbnbData.head(15).plot.bar(x=\"neighbourhood\", y =\"price\")"
   ]
  },
  {
   "cell_type": "markdown",
   "id": "interim-integral",
   "metadata": {},
   "source": [
    "### Seaborn"
   ]
  },
  {
   "cell_type": "markdown",
   "id": "eight-parliament",
   "metadata": {},
   "source": [
    "Seaborn is a data visualization library that is also built on matplotlib and uses pandas.\n",
    "\n",
    "This library comes with datasets built in. We can easily access one of these called *penguins* to see the graphics Seaborn can quickly create..."
   ]
  },
  {
   "cell_type": "code",
   "execution_count": null,
   "id": "northern-spending",
   "metadata": {},
   "outputs": [],
   "source": [
    "# The followng simple load command is applicable to the built-in datasets\n",
    "\n",
    "df = sns.load_dataset(\"penguins\")\n",
    "sns.pairplot(df, hue=\"species\")"
   ]
  },
  {
   "cell_type": "code",
   "execution_count": null,
   "id": "acting-optimization",
   "metadata": {},
   "outputs": [],
   "source": [
    "# Here is another style of plot Seaborn can make with one line of code after the data is loaded\n",
    "\n",
    "df = sns.load_dataset(\"penguins\")\n",
    "sns.histplot(data=df, x=\"flipper_length_mm\", hue=\"species\", multiple=\"stack\")"
   ]
  },
  {
   "cell_type": "markdown",
   "id": "embedded-short",
   "metadata": {},
   "source": [
    "Seaborn is dependent on matplotlib, numpy, scipy and pandas. These libraries will be installed when you install seaborn if you don't have them already.\n",
    "\n",
    "Seaborn's functioning is tightly integrated with the pandas dataframe."
   ]
  },
  {
   "cell_type": "code",
   "execution_count": null,
   "id": "pleased-section",
   "metadata": {},
   "outputs": [],
   "source": [
    "# If we want to use our own dataset, we'll initially work with our .csv in pandas\n",
    "# We'll create a dataframe called \"airb\" for the truncated dataset\n",
    "# and one called \"airbnbData\" for the full dataset\n",
    "\n",
    "airb = pd.read_csv(\"data/AirbnbDenver_Sample.csv\")\n",
    "airb.head(3)"
   ]
  },
  {
   "cell_type": "code",
   "execution_count": null,
   "id": "wrong-brick",
   "metadata": {},
   "outputs": [],
   "source": [
    "# Let's get a summary of our column headers\n",
    "\n",
    "list(airb.columns)"
   ]
  },
  {
   "cell_type": "code",
   "execution_count": null,
   "id": "tired-australia",
   "metadata": {
    "scrolled": true
   },
   "outputs": [],
   "source": [
    "airbnbData = pd.read_csv(\"data/AirBnB-Denver_20211229_listingssummary.csv\")"
   ]
  },
  {
   "cell_type": "code",
   "execution_count": null,
   "id": "designed-indonesia",
   "metadata": {},
   "outputs": [],
   "source": [
    "# The columns for the full dataset are the same if you want to inspect them:\n",
    "\n",
    "# list(airbnbData.columns)"
   ]
  },
  {
   "cell_type": "markdown",
   "id": "settled-medline",
   "metadata": {},
   "source": [
    "Seaborn has a number of built in themes that let you independently control the style and scaling of the plot to quickly translate your work between presentation contexts."
   ]
  },
  {
   "cell_type": "code",
   "execution_count": null,
   "id": "alike-point",
   "metadata": {},
   "outputs": [],
   "source": [
    "# Leave the following default theme off for your first go through the next commands,\n",
    "# then come back and re-run them with this theme on to see how the plot changes.\n",
    "\n",
    "# sns.set_theme()"
   ]
  },
  {
   "cell_type": "code",
   "execution_count": null,
   "id": "healthy-correction",
   "metadata": {
    "scrolled": true
   },
   "outputs": [],
   "source": [
    "f, ax = plt.subplots(figsize=(6.5, 6.5))"
   ]
  },
  {
   "cell_type": "markdown",
   "id": "careful-creek",
   "metadata": {},
   "source": [
    "Remember, we are interested in creating figures to insert into reports, papers, etc. We can We can save the figure with the `matplotlib.plot.savefig()`function (remember, we pulled this in as plt!). You can choose to save a .jpg or an .svg!"
   ]
  },
  {
   "cell_type": "code",
   "execution_count": null,
   "id": "anticipated-harbor",
   "metadata": {
    "scrolled": true
   },
   "outputs": [],
   "source": [
    "sns.scatterplot(x=\"price\", y=\"number_of_reviews\",\n",
    "                data=airb)\n",
    "plt.savefig('AirbnbSubset-pricetoreviews.svg')"
   ]
  },
  {
   "cell_type": "code",
   "execution_count": null,
   "id": "dense-shanghai",
   "metadata": {},
   "outputs": [],
   "source": [
    "sns.scatterplot(x=\"price\", y=\"number_of_reviews\",\n",
    "                data=airbnbData)"
   ]
  },
  {
   "cell_type": "markdown",
   "id": "about-sterling",
   "metadata": {},
   "source": [
    "### Maps! - Introducing GeoPandas\n",
    "\n",
    "Let's look at the geopandas library for creating geographic visualizations."
   ]
  },
  {
   "cell_type": "markdown",
   "id": "double-writer",
   "metadata": {},
   "source": [
    "The Pandas package has been extended to GeoPandas. This package, like it sounds, makes it possible to have geospatial data in our dataframes. It can:\n",
    "\n",
    "- Create a geo-enabled point data column off of lat/lon information\n",
    "- Directly load geospatial vector files such as shapefiles and GeoJSONs"
   ]
  },
  {
   "cell_type": "code",
   "execution_count": null,
   "id": "considered-offset",
   "metadata": {},
   "outputs": [],
   "source": [
    "# Now, we'll use geopandas to geo-enable our .csv since it has lat & lon data!\n",
    "\n",
    "gdf = gpd.GeoDataFrame(\n",
    "    airbnbData, geometry=gpd.points_from_xy(airbnbData.longitude, airbnbData.latitude))"
   ]
  },
  {
   "cell_type": "code",
   "execution_count": null,
   "id": "antique-simulation",
   "metadata": {
    "scrolled": true
   },
   "outputs": [],
   "source": [
    "# We've added a geometry column at the end:\n",
    "\n",
    "list(gdf.columns)\n",
    "\n",
    "airbnbData.head(3)"
   ]
  },
  {
   "cell_type": "code",
   "execution_count": null,
   "id": "existing-julian",
   "metadata": {},
   "outputs": [],
   "source": [
    "# The .plot() method in geopandas is based on matplotlib\n",
    "# there is an argument \"kind\" where the default is \"geo\" so it auto-magically makes a map\n",
    "\n",
    "gdf.plot()"
   ]
  },
  {
   "cell_type": "code",
   "execution_count": null,
   "id": "outer-camping",
   "metadata": {},
   "outputs": [],
   "source": [
    "# Let's created a map plot with a base reference layer\n",
    "# And yes, geopandas can directly read shapefiles!\n",
    "\n",
    "denver = gpd.read_file(\"data/county_boundary_lines.shp\")\n",
    "\n",
    "base = denver.plot()\n",
    "gdf.plot(ax=base, marker='*',color='green',markersize=3)\n",
    "plt.show()"
   ]
  },
  {
   "cell_type": "markdown",
   "id": "looking-dependence",
   "metadata": {},
   "source": [
    "#### Adding a basemap\n",
    "\n",
    "We can also add a basemap in geopandas, but we'll need a new package for this called contextily.\n",
    "\n",
    "Contextily retrieves web map tiles from several sources like OpenStreetMap and Stamen."
   ]
  },
  {
   "cell_type": "code",
   "execution_count": null,
   "id": "interstate-district",
   "metadata": {},
   "outputs": [],
   "source": [
    "import geopandas as gpd\n",
    "import contextily as cx"
   ]
  },
  {
   "cell_type": "markdown",
   "id": "complete-russian",
   "metadata": {},
   "source": [
    "For this section, we'll use a dataset that is built into the GeoPandas library called *naturalearth_cities* which really aren't ALL the cities."
   ]
  },
  {
   "cell_type": "code",
   "execution_count": null,
   "id": "caroline-photographer",
   "metadata": {
    "scrolled": true
   },
   "outputs": [],
   "source": [
    "gdf = gpd.read_file(gpd.datasets.get_path('naturalearth_cities'))\n",
    "ax = gdf.plot(figsize=(20, 20), alpha=0.5, edgecolor='k')   # alpha controls symbol transparency"
   ]
  },
  {
   "cell_type": "code",
   "execution_count": null,
   "id": "textile-addition",
   "metadata": {},
   "outputs": [],
   "source": [
    "# Checking our coordinate reference system (they are important!):\n",
    "# Before adding web map tiles to this plot, we first need to ensure the coordinate reference systems (CRS) of the tiles and the data match. Web map tiles are typically provided in Web Mercator (EPSG 3857), so let us first check what CRS our NYC boroughs are in:\n",
    "\n",
    "gdf.crs"
   ]
  },
  {
   "cell_type": "code",
   "execution_count": null,
   "id": "protected-timer",
   "metadata": {},
   "outputs": [],
   "source": [
    "gdf_wm = gdf.to_crs(epsg=3857)\n",
    "gdf_wm.crs"
   ]
  },
  {
   "cell_type": "code",
   "execution_count": null,
   "id": "orange-hebrew",
   "metadata": {
    "scrolled": true
   },
   "outputs": [],
   "source": [
    "ax = gdf_wm.plot(figsize=(20, 20), alpha=0.5, edgecolor='k')"
   ]
  },
  {
   "cell_type": "code",
   "execution_count": null,
   "id": "portable-lounge",
   "metadata": {
    "scrolled": true
   },
   "outputs": [],
   "source": [
    "ax = gdf_wm.plot(figsize=(20, 20), alpha=0.5, edgecolor='k')\n",
    "cx.add_basemap(ax)"
   ]
  },
  {
   "cell_type": "markdown",
   "id": "tender-isolation",
   "metadata": {},
   "source": [
    "By default, contextily uses the Stamen Terrain style. We can specify a different style using cx.providers:\n",
    "\n",
    "You'll notice that the axis labels are no longer lat and lon, but numbers associated with the web tiles, but we can turn these off.\n",
    "\n",
    "And again, our goal is to create a figure to insert into a publication! We can save the figure with the `matplotlib.plot.savefig()` function (remember, we pulled this in as plt!)."
   ]
  },
  {
   "cell_type": "code",
   "execution_count": null,
   "id": "developed-cosmetic",
   "metadata": {
    "scrolled": true
   },
   "outputs": [],
   "source": [
    "ax = gdf_wm.plot(figsize=(20, 20), alpha=0.5, edgecolor='k')\n",
    "cx.add_basemap(ax, source=cx.providers.Stamen.TonerLite)\n",
    "ax.set_axis_off()\n",
    "plt.savefig('naturalearthcities.jpg')"
   ]
  },
  {
   "cell_type": "markdown",
   "id": "respiratory-arbor",
   "metadata": {},
   "source": [
    "So now you have some tools to explore and create a number of static data visualizations you can export to figures.\n",
    "\n",
    "Go back to the documentation guides for the libraries and packages above, and start building some of your own Jupyter Notebooks out of Anaconda Navigator (be sure to have all the right libraries added to your python environment!) and HAVE FUN creating useful figures for your research!"
   ]
  }
 ],
 "metadata": {
  "kernelspec": {
   "display_name": "Python 3",
   "language": "python",
   "name": "python3"
  },
  "language_info": {
   "codemirror_mode": {
    "name": "ipython",
    "version": 3
   },
   "file_extension": ".py",
   "mimetype": "text/x-python",
   "name": "python",
   "nbconvert_exporter": "python",
   "pygments_lexer": "ipython3",
   "version": "3.8.8"
  }
 },
 "nbformat": 4,
 "nbformat_minor": 5
}
